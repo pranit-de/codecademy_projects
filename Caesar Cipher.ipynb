{
 "cells": [
  {
   "cell_type": "code",
   "execution_count": 38,
   "id": "395c44a2-b512-4391-bb4c-7d7ab28d2de1",
   "metadata": {},
   "outputs": [
    {
     "data": {
      "text/plain": [
       "'\\nHey there! How have you been? I\\'ve been great! \\nI just learned about this really cool type of cipher called a Caesar Cipher.\\nHere\\'s how it works: You take your message, something like \"hello\" and then you shift all of the letters by a certain offset. \\n\\nFor example, if I chose an offset of 3 and a message of \"hello\", I would encode my message by shifting each letter 3 places to the left with respect to the alphabet. \\nSo \"h\" becomes \"e\", \"e\" becomes \"b\", \"l\" becomes \"i\", and \"o\" becomes \"l\". \\nThen I have my encoded message, \"ebiil\"! \\n\\nNow I can send you my message and the offset and you can decode it by shifting each letter 3 places to the right. \\nThe best thing is that Julius Caesar himself used this cipher, that\\'s why it\\'s called the Caesar Cipher! I\\nsn\\'t that so cool! Okay, now I\\'m going to send you a longer encoded message that you have to decode yourself!\\n    \\nThis message below has an offset of 10. Let\\'s see how to decode it!\\n'"
      ]
     },
     "execution_count": 38,
     "metadata": {},
     "output_type": "execute_result"
    }
   ],
   "source": [
    "\"\"\"\n",
    "Hey there! How have you been? I've been great! \n",
    "I just learned about this really cool type of cipher called a Caesar Cipher.\n",
    "Here's how it works: You take your message, something like \"hello\" and then you shift all of the letters by a certain offset. \n",
    "\n",
    "For example, if I chose an offset of 3 and a message of \"hello\", I would encode my message by shifting each letter 3 places to the left with respect to the alphabet. \n",
    "So \"h\" becomes \"e\", \"e\" becomes \"b\", \"l\" becomes \"i\", and \"o\" becomes \"l\". \n",
    "Then I have my encoded message, \"ebiil\"! \n",
    "\n",
    "Now I can send you my message and the offset and you can decode it by shifting each letter 3 places to the right. \n",
    "The best thing is that Julius Caesar himself used this cipher, that's why it's called the Caesar Cipher! I\n",
    "sn't that so cool! Okay, now I'm going to send you a longer encoded message that you have to decode yourself!\n",
    "    \n",
    "This message below has an offset of 10. Let's see how to decode it!\n",
    "\"\"\""
   ]
  },
  {
   "cell_type": "code",
   "execution_count": 40,
   "id": "a960423c-70b4-4711-b1b6-1a19ad874a17",
   "metadata": {},
   "outputs": [
    {
     "name": "stdout",
     "output_type": "stream",
     "text": [
      "hey there! this is an example of a caesar cipher. were you able to decode it? i hope so! send me a message back with the same offset!\n"
     ]
    }
   ],
   "source": [
    "coded_message = \"xuo jxuhu! jxyi yi qd unqcfbu ev q squiqh syfxuh. muhu oek qrbu je tusetu yj? y xefu ie! iudt cu q cuiiqwu rqsa myjx jxu iqcu evviuj!\"\n",
    "\n",
    "def caesar_decode(message, offset):\n",
    "  alphabet = \"abcdefghijklmnopqrstuvwxyz\"\n",
    "  decoded_message = ''\n",
    "  \n",
    "  for character in message:\n",
    "    if character in alphabet:\n",
    "      if (alphabet.find(character) + offset) >= 25:\n",
    "        cipher = alphabet.find(character) + offset - 26\n",
    "        decipher = alphabet[cipher]\n",
    "\n",
    "      elif (alphabet.find(character) + offset) <= 25:\n",
    "        cipher = (alphabet.find(character) + offset)\n",
    "        decipher = alphabet[cipher]\n",
    "      decoded_message = decoded_message + decipher\n",
    "    \n",
    "    else:\n",
    "      decoded_message = decoded_message + character\n",
    "  \n",
    "  print(decoded_message)\n",
    "\n",
    "caesar_decode(coded_message,10)"
   ]
  },
  {
   "cell_type": "code",
   "execution_count": 44,
   "id": "250c0541-1b94-4da1-bcae-30064ab1df0c",
   "metadata": {},
   "outputs": [
    {
     "name": "stdout",
     "output_type": "stream",
     "text": [
      "\n",
      "never tickle a sleeping dragon!\n",
      "\n",
      "the offset for the second message is fourteen.\n",
      "\n",
      "performing multiple caesar ciphers to code your messages is even more secure!\n",
      "\n"
     ]
    }
   ],
   "source": [
    "#Additional examples:\n",
    "\n",
    "message_0 = \"\\nduluh jysabu q ibuufydw thqwed!\\n\"\n",
    "caesar_decode(message_0, 10)\n",
    "\n",
    "message_1 = \"jxu evviuj veh jxu iusedt cuiiqwu yi vekhjuud.\\n\"\n",
    "caesar_decode(message_1, 10)\n",
    "\n",
    "message_2 = \"bqdradyuzs ygxfubxq omqemd oubtqde fa oapq kagd yqeemsqe ue qhqz yadq eqogdq!\\n\"\n",
    "caesar_decode(message_2, 14)\n"
   ]
  },
  {
   "cell_type": "code",
   "execution_count": 50,
   "id": "fda00beb-3015-4c10-b5c3-778ce434f33e",
   "metadata": {},
   "outputs": [
    {
     "name": "stdout",
     "output_type": "stream",
     "text": [
      "\n",
      "q gkysa rhemd ven zkcfi eluh jxu bqpo tew!\n",
      "\n"
     ]
    }
   ],
   "source": [
    "#Similarly, I can also encode secret messages!\n",
    "\n",
    "def caesar_encode(message, offset):\n",
    "  alphabet = \"abcdefghijklmnopqrstuvwxyz\"\n",
    "  encoded_message = ''\n",
    "  \n",
    "  for character in message:\n",
    "    if character in alphabet:\n",
    "      if (alphabet.find(character) - offset) >= 0:\n",
    "        code = alphabet[alphabet.find(character) - offset]\n",
    "        encoded_message = encoded_message + code\n",
    "\n",
    "      elif (alphabet.find(character) - offset) < 0:\n",
    "        code = alphabet[(alphabet.find(character) - offset) + 26]\n",
    "        encoded_message = encoded_message + code\n",
    "    \n",
    "    else:\n",
    "     encoded_message = encoded_message + character\n",
    "  \n",
    "  print(encoded_message)\n",
    "\n",
    "encode_1 = \"\\na quick brown fox jumps over the lazy dog!\\n\"\n",
    "caesar_encode(encode_1, 10)\n"
   ]
  }
 ],
 "metadata": {
  "kernelspec": {
   "display_name": "Python [conda env:base] *",
   "language": "python",
   "name": "conda-base-py"
  },
  "language_info": {
   "codemirror_mode": {
    "name": "ipython",
    "version": 3
   },
   "file_extension": ".py",
   "mimetype": "text/x-python",
   "name": "python",
   "nbconvert_exporter": "python",
   "pygments_lexer": "ipython3",
   "version": "3.12.7"
  }
 },
 "nbformat": 4,
 "nbformat_minor": 5
}
