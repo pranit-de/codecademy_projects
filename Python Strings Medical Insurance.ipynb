{
 "cells": [
  {
   "cell_type": "markdown",
   "id": "02c068d8",
   "metadata": {},
   "source": [
    "# Python Strings: Medical Insurance Project"
   ]
  },
  {
   "cell_type": "markdown",
   "id": "12c95881",
   "metadata": {},
   "source": [
    "You are a doctor who needs to clean up medical patient records, which are currently stored in one large string.\n",
    "\n",
    "In this project, you will use your new knowledge of Python strings to obtain and clean up medical data so that it is easier to read and analyze.\n",
    "\n",
    "Let's get started!"
   ]
  },
  {
   "cell_type": "markdown",
   "id": "9c8759b2",
   "metadata": {},
   "source": [
    "## Working with Strings"
   ]
  },
  {
   "cell_type": "markdown",
   "id": "2e5f6b9b",
   "metadata": {},
   "source": [
    "1. First, take a look at the code in the code block below.\n",
    "\n",
    "   The string `medical_data` stores the medical records for ten individuals. Each record is separated by a `;` and contains the name, age, BMI (body mass index), and insurance cost for an individual, in that order.\n",
    "   \n",
    "   Print `medical_data` to see the output below the code block."
   ]
  },
  {
   "cell_type": "code",
   "execution_count": null,
   "id": "1e0019c2",
   "metadata": {},
   "outputs": [],
   "source": [
    "medical_data = \\\n",
    "\"\"\"Marina Allison   ,27   ,   31.1 , \n",
    "#7010.0   ;Markus Valdez   ,   30, \n",
    "22.4,   #4050.0 ;Connie Ballard ,43 \n",
    ",   25.3 , #12060.0 ;Darnell Weber   \n",
    ",   35   , 20.6   , #7500.0;\n",
    "Sylvie Charles   ,22, 22.1 \n",
    ",#3022.0   ;   Vinay Padilla,24,   \n",
    "26.9 ,#4620.0 ;Meredith Santiago, 51   , \n",
    "29.3 ,#16330.0;   Andre Mccarty, \n",
    "19,22.7 , #2900.0 ; \n",
    "Lorena Hodson ,65, 33.1 , #19370.0; \n",
    "Isaac Vu ,34, 24.8,   #7045.0\"\"\"\n",
    "\n",
    "print(medical_data)"
   ]
  },
  {
   "cell_type": "markdown",
   "id": "551e06e5",
   "metadata": {},
   "source": [
    "2. We want the insurance costs to be represented in US dollars.\n",
    "\n",
    "   Replace all instances of `#` in `medical_data` with `$`. Store the result in a variable called `updated_medical_data`.\n",
    "   \n",
    "   Print `updated_medical_data`."
   ]
  },
  {
   "cell_type": "code",
   "execution_count": null,
   "id": "5d5b6fd0",
   "metadata": {},
   "outputs": [],
   "source": [
    "updated_medical_data = medical_data.replace(\"#\", \"$\")\n",
    "print(updated_medical_data)"
   ]
  },
  {
   "cell_type": "markdown",
   "id": "e8ee9639",
   "metadata": {},
   "source": [
    "3. We want to calculate the number of medical records in our data.\n",
    "\n",
    "   Create a variable called `num_records` and initialize it at 0."
   ]
  },
  {
   "cell_type": "code",
   "execution_count": null,
   "id": "18d581cf",
   "metadata": {},
   "outputs": [],
   "source": [
    "num_records = 0"
   ]
  },
  {
   "cell_type": "markdown",
   "id": "0043b44c",
   "metadata": {},
   "source": [
    "4. Next, write a `for` loop to iterate through the `updated_medical_data` string. Inside of the loop, add `1` to `num_records` when the current character is equal to `$`."
   ]
  },
  {
   "cell_type": "code",
   "execution_count": null,
   "id": "460b2ef7",
   "metadata": {},
   "outputs": [],
   "source": [
    "for character in updated_medical_data:\n",
    "    if character == \"$\":\n",
    "        num_records += 1"
   ]
  },
  {
   "cell_type": "markdown",
   "id": "5f8a5086",
   "metadata": {},
   "source": [
    "5. Outside of the loop, print `num_records` with the following message:\n",
    "\n",
    "   ```\n",
    "   There are {num_records} medical records in the data.\n",
    "   ```"
   ]
  },
  {
   "cell_type": "code",
   "execution_count": null,
   "id": "878b175d",
   "metadata": {},
   "outputs": [],
   "source": [
    "print(\"There are \" + str(num_records) + \" medical records in the data.\")"
   ]
  },
  {
   "cell_type": "markdown",
   "id": "50abd312",
   "metadata": {},
   "source": [
    "## Splitting Strings"
   ]
  },
  {
   "cell_type": "markdown",
   "id": "7a890a0e",
   "metadata": {},
   "source": [
    "6. The medical data in its current form is difficult to analyze. An essential job for a data scientist is to clean up data so that it's easy to work with.\n",
    "\n",
    "   Let's start off by splitting the `updated_medical_data` string into a list of each record. Remember that each medical record is separated by a `;` in the string.\n",
    "   \n",
    "   Store the result in a variable called `medical_data_split` and print this variable."
   ]
  },
  {
   "cell_type": "code",
   "execution_count": null,
   "id": "4eac9267",
   "metadata": {},
   "outputs": [],
   "source": [
    "medical_data_split = updated_medical_data.split(\";\")\n",
    "print(medical_data_split)"
   ]
  },
  {
   "cell_type": "markdown",
   "id": "bfdb6636",
   "metadata": {},
   "source": [
    "7. Our data is now stored in a list, but it is still hard to read. Let's split each medical record into its own list.\n",
    "\n",
    "   First, define an empty list called `medical_records`."
   ]
  },
  {
   "cell_type": "code",
   "execution_count": null,
   "id": "f5e943fb",
   "metadata": {},
   "outputs": [],
   "source": [
    "medical_records = []"
   ]
  },
  {
   "cell_type": "markdown",
   "id": "1c0b0bf3",
   "metadata": {},
   "source": [
    "8. Next, iterate through `medical_data_split` and for each record, split the string after each comma (`,`) and append the split string to `medical_records`.\n",
    "\n",
    "   Print `medical_records` after the loop."
   ]
  },
  {
   "cell_type": "code",
   "execution_count": null,
   "id": "1b16f694",
   "metadata": {},
   "outputs": [],
   "source": [
    "for record in medical_data_split:\n",
    "    medical_records.append(record.split(','))\n",
    "print(medical_records)"
   ]
  },
  {
   "cell_type": "markdown",
   "id": "761db1d3",
   "metadata": {},
   "source": [
    "## Cleaning Data"
   ]
  },
  {
   "cell_type": "markdown",
   "id": "efcb60cd",
   "metadata": {},
   "source": [
    "9. Our data is now slightly more readable. However, it is not properly formatted - it contains unnecessary whitespace.\n",
    "\n",
    "   To fix this, let's start by creating an empty list called `medical_records_clean`."
   ]
  },
  {
   "cell_type": "code",
   "execution_count": null,
   "id": "8834bd7d",
   "metadata": {},
   "outputs": [],
   "source": [
    "medical_records_clean = []"
   ]
  },
  {
   "cell_type": "markdown",
   "id": "890d4e7a",
   "metadata": {},
   "source": [
    "10. Next, use a `for` loop to iterate through `medical_records`.\n",
    "\n",
    "    Inside of the loop, create an empty list called `record_clean`. We'll use this list to store a formatted version of each medical record."
   ]
  },
  {
   "cell_type": "code",
   "execution_count": null,
   "id": "10af6bf9",
   "metadata": {},
   "outputs": [],
   "source": [
    "for record in medical_records:\n",
    "    record_clean = []"
   ]
  },
  {
   "cell_type": "markdown",
   "id": "39fe2c96",
   "metadata": {},
   "source": [
    "11. After the `record_clean` variable, create a nested `for` loop that goes through each `record`:\n",
    "\n",
    "    ```py\n",
    "    for item in record\n",
    "    ```\n",
    "    \n",
    "    Inside of this loop, append `item.strip()` to `record_clean` to remove any whitespace from the string."
   ]
  },
  {
   "cell_type": "code",
   "execution_count": null,
   "id": "dafaa977",
   "metadata": {},
   "outputs": [],
   "source": [
    "for record in medical_records:\n",
    "    record_clean = []\n",
    "    for item in record:\n",
    "        record_clean.append(item.strip())"
   ]
  },
  {
   "cell_type": "markdown",
   "id": "61d39ce2",
   "metadata": {},
   "source": [
    "12. Finally, we need to add each cleaned up record to `medical_records_clean`.\n",
    "\n",
    "    Outside of the nested `for` loop, append `record_clean` to `medical_records_clean`."
   ]
  },
  {
   "cell_type": "code",
   "execution_count": null,
   "id": "60b013df",
   "metadata": {},
   "outputs": [],
   "source": [
    "for record in medical_records:\n",
    "    record_clean = []\n",
    "    for item in record:\n",
    "        record_clean.append(item.strip())\n",
    "    medical_records_clean.append(record_clean)"
   ]
  },
  {
   "cell_type": "markdown",
   "id": "50ddaf62",
   "metadata": {},
   "source": [
    "13. Print `medical_records_clean` outside of the `for` loops to see the output.\n",
    "\n",
    "    You should see output that is formatted and much easier to read."
   ]
  },
  {
   "cell_type": "code",
   "execution_count": null,
   "id": "0db8cb11",
   "metadata": {},
   "outputs": [],
   "source": [
    "print(medical_records_clean)"
   ]
  },
  {
   "cell_type": "markdown",
   "id": "3eb7f704",
   "metadata": {},
   "source": [
    "## Analyzing Data"
   ]
  },
  {
   "cell_type": "markdown",
   "id": "d4dcda88",
   "metadata": {},
   "source": [
    "14. Our data is now clean and ready for analysis.\n",
    "\n",
    "    For example, to print out the names of each of the ten individuals, we can use the following loop:\n",
    "    ```py\n",
    "    for record in medical_records_clean:\n",
    "      print(record[0])\n",
    "    ```\n",
    "    \n",
    "    Add this loop to the code block below and run it."
   ]
  },
  {
   "cell_type": "code",
   "execution_count": null,
   "id": "024a0d18",
   "metadata": {},
   "outputs": [],
   "source": [
    "for record in medical_records_clean:\n",
    "    print(record[0])"
   ]
  },
  {
   "cell_type": "markdown",
   "id": "2f20d494",
   "metadata": {},
   "source": [
    "15. You want all of the names in the medical records to be uppercase characters.\n",
    "\n",
    "    In the `for` loop, update `records[0]` before the `print` statement so that all of the characters are uppercase.\n",
    "    \n",
    "    Run the code to see the result."
   ]
  },
  {
   "cell_type": "code",
   "execution_count": null,
   "id": "0e391454",
   "metadata": {},
   "outputs": [],
   "source": [
    "for record in medical_records_clean:\n",
    "    record[0] = record[0].upper()\n",
    "    print(record[0])"
   ]
  },
  {
   "cell_type": "markdown",
   "id": "ac36bcef",
   "metadata": {},
   "source": [
    "16. Let's store each name, age, BMI, and insurance cost in separate lists.\n",
    "\n",
    "    To start, create four empty lists:\n",
    "    - `names`\n",
    "    - `ages`\n",
    "    - `bmis`\n",
    "    - `insurance_costs`"
   ]
  },
  {
   "cell_type": "code",
   "execution_count": null,
   "id": "7a062ad7",
   "metadata": {},
   "outputs": [],
   "source": [
    "names = []\n",
    "ages = []\n",
    "bmis = []\n",
    "insurance_costs = []"
   ]
  },
  {
   "cell_type": "markdown",
   "id": "743056c9",
   "metadata": {},
   "source": [
    "17. Next, iterate through `medical_records_clean` and for each record:\n",
    "    - Append the name to `names`.\n",
    "    - Append the age to `ages`.\n",
    "    - Append the BMI to `bmis`.\n",
    "    - Append the insurance cost to `insurance_costs`."
   ]
  },
  {
   "cell_type": "code",
   "execution_count": null,
   "id": "4e112451",
   "metadata": {},
   "outputs": [],
   "source": [
    "for record in medical_records_clean:\n",
    "    names.append(record[0])\n",
    "    ages.append(record[1])\n",
    "    bmis.append(record[2])\n",
    "    insurance_costs.append(record[3])"
   ]
  },
  {
   "cell_type": "markdown",
   "id": "ae7a9765",
   "metadata": {},
   "source": [
    "18. Print `names`, `ages`, `bmis`, and `insurance_costs` outside of the loop.\n",
    "\n",
    "    Make sure the output is what you expect."
   ]
  },
  {
   "cell_type": "code",
   "execution_count": null,
   "id": "3a4ec4e4",
   "metadata": {},
   "outputs": [],
   "source": [
    "print(\"Names: \" + str(names))\n",
    "print(\"Ages: \" + str(ages))\n",
    "print(\"BMI: \" + str(bmis))\n",
    "print(\"Insurance Costs: \" + str(insurance_costs))"
   ]
  },
  {
   "cell_type": "markdown",
   "id": "484b0ad1",
   "metadata": {},
   "source": [
    "19. Now that all of our data is in separate lists, we can easily perform analysis on that data. Let's calculate the average BMI in our dataset.\n",
    "\n",
    "    First, create a variable called `total_bmi` and set it equal to 0."
   ]
  },
  {
   "cell_type": "code",
   "execution_count": null,
   "id": "8bf752bc",
   "metadata": {},
   "outputs": [],
   "source": [
    "total_bmi = 0"
   ]
  },
  {
   "cell_type": "markdown",
   "id": "b4eee616",
   "metadata": {},
   "source": [
    "20. Next, use a `for` loop to iterate through `bmis` and add each `bmi` to `total_bmi`.\n",
    "\n",
    "    Remember to convert `bmi` to a float."
   ]
  },
  {
   "cell_type": "code",
   "execution_count": null,
   "id": "64b93c71",
   "metadata": {},
   "outputs": [],
   "source": [
    "for bmi in bmis:\n",
    "    total_bmi += float(bmi)"
   ]
  },
  {
   "cell_type": "markdown",
   "id": "61785650",
   "metadata": {},
   "source": [
    "21. After the for loop, create a variable called `average_bmi` that stores the `total_bmi` divided by the length of the `bmis` list.\n",
    "\n",
    "    Print out `average_bmi` with the following message:\n",
    "    ```\n",
    "    Average BMI: {average_bmi}\n",
    "    ```"
   ]
  },
  {
   "cell_type": "code",
   "execution_count": null,
   "id": "2a8cd5c7",
   "metadata": {},
   "outputs": [],
   "source": [
    "average_bmi = total_bmi/len(bmis)\n",
    "print(\"Average BMI: \" + str(average_bmi))"
   ]
  }
 ],
 "metadata": {
  "kernelspec": {
   "display_name": "Python [conda env:base] *",
   "language": "python",
   "name": "conda-base-py"
  },
  "language_info": {
   "codemirror_mode": {
    "name": "ipython",
    "version": 3
   },
   "file_extension": ".py",
   "mimetype": "text/x-python",
   "name": "python",
   "nbconvert_exporter": "python",
   "pygments_lexer": "ipython3",
   "version": "3.12.7"
  }
 },
 "nbformat": 4,
 "nbformat_minor": 5
}
